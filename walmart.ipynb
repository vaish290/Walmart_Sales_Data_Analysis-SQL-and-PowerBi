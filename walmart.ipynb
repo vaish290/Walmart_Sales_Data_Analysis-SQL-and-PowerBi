{
  "cells": [
    {
      "cell_type": "code",
      "execution_count": null,
      "metadata": {
        "id": "UtrYRm6ifr7h"
      },
      "outputs": [],
      "source": []
    },
    {
      "cell_type": "code",
      "execution_count": 6,
      "metadata": {
        "id": "7FlBHA19gERH"
      },
      "outputs": [],
      "source": [
        "import pandas as pd"
      ]
    },
    {
      "cell_type": "code",
      "execution_count": 7,
      "metadata": {
        "id": "YoHAw8ASgtmE"
      },
      "outputs": [],
      "source": [
        "data=pd.read_csv('Walmart.csv')"
      ]
    },
    {
      "cell_type": "code",
      "execution_count": 8,
      "metadata": {
        "colab": {
          "base_uri": "https://localhost:8080/",
          "height": 206
        },
        "id": "l8Rq9UbfkiQ8",
        "outputId": "1a27b740-669e-4267-f293-cd55d2a3061f"
      },
      "outputs": [
        {
          "data": {
            "text/html": [
              "<div>\n",
              "<style scoped>\n",
              "    .dataframe tbody tr th:only-of-type {\n",
              "        vertical-align: middle;\n",
              "    }\n",
              "\n",
              "    .dataframe tbody tr th {\n",
              "        vertical-align: top;\n",
              "    }\n",
              "\n",
              "    .dataframe thead th {\n",
              "        text-align: right;\n",
              "    }\n",
              "</style>\n",
              "<table border=\"1\" class=\"dataframe\">\n",
              "  <thead>\n",
              "    <tr style=\"text-align: right;\">\n",
              "      <th></th>\n",
              "      <th>invoice_id</th>\n",
              "      <th>Branch</th>\n",
              "      <th>City</th>\n",
              "      <th>category</th>\n",
              "      <th>unit_price</th>\n",
              "      <th>quantity</th>\n",
              "      <th>date</th>\n",
              "      <th>time</th>\n",
              "      <th>payment_method</th>\n",
              "      <th>rating</th>\n",
              "      <th>profit_margin</th>\n",
              "    </tr>\n",
              "  </thead>\n",
              "  <tbody>\n",
              "    <tr>\n",
              "      <th>0</th>\n",
              "      <td>1</td>\n",
              "      <td>WALM003</td>\n",
              "      <td>San Antonio</td>\n",
              "      <td>Health and beauty</td>\n",
              "      <td>$74.69</td>\n",
              "      <td>7.0</td>\n",
              "      <td>05/01/19</td>\n",
              "      <td>13:08:00</td>\n",
              "      <td>Ewallet</td>\n",
              "      <td>9.1</td>\n",
              "      <td>0.48</td>\n",
              "    </tr>\n",
              "    <tr>\n",
              "      <th>1</th>\n",
              "      <td>2</td>\n",
              "      <td>WALM048</td>\n",
              "      <td>Harlingen</td>\n",
              "      <td>Electronic accessories</td>\n",
              "      <td>$15.28</td>\n",
              "      <td>5.0</td>\n",
              "      <td>08/03/19</td>\n",
              "      <td>10:29:00</td>\n",
              "      <td>Cash</td>\n",
              "      <td>9.6</td>\n",
              "      <td>0.48</td>\n",
              "    </tr>\n",
              "    <tr>\n",
              "      <th>2</th>\n",
              "      <td>3</td>\n",
              "      <td>WALM067</td>\n",
              "      <td>Haltom City</td>\n",
              "      <td>Home and lifestyle</td>\n",
              "      <td>$46.33</td>\n",
              "      <td>7.0</td>\n",
              "      <td>03/03/19</td>\n",
              "      <td>13:23:00</td>\n",
              "      <td>Credit card</td>\n",
              "      <td>7.4</td>\n",
              "      <td>0.33</td>\n",
              "    </tr>\n",
              "    <tr>\n",
              "      <th>3</th>\n",
              "      <td>4</td>\n",
              "      <td>WALM064</td>\n",
              "      <td>Bedford</td>\n",
              "      <td>Health and beauty</td>\n",
              "      <td>$58.22</td>\n",
              "      <td>8.0</td>\n",
              "      <td>27/01/19</td>\n",
              "      <td>20:33:00</td>\n",
              "      <td>Ewallet</td>\n",
              "      <td>8.4</td>\n",
              "      <td>0.33</td>\n",
              "    </tr>\n",
              "    <tr>\n",
              "      <th>4</th>\n",
              "      <td>5</td>\n",
              "      <td>WALM013</td>\n",
              "      <td>Irving</td>\n",
              "      <td>Sports and travel</td>\n",
              "      <td>$86.31</td>\n",
              "      <td>7.0</td>\n",
              "      <td>08/02/19</td>\n",
              "      <td>10:37:00</td>\n",
              "      <td>Ewallet</td>\n",
              "      <td>5.3</td>\n",
              "      <td>0.48</td>\n",
              "    </tr>\n",
              "  </tbody>\n",
              "</table>\n",
              "</div>"
            ],
            "text/plain": [
              "   invoice_id   Branch         City                category unit_price  \\\n",
              "0           1  WALM003  San Antonio       Health and beauty     $74.69   \n",
              "1           2  WALM048    Harlingen  Electronic accessories     $15.28   \n",
              "2           3  WALM067  Haltom City      Home and lifestyle     $46.33   \n",
              "3           4  WALM064      Bedford       Health and beauty     $58.22   \n",
              "4           5  WALM013       Irving       Sports and travel     $86.31   \n",
              "\n",
              "   quantity      date      time payment_method  rating  profit_margin  \n",
              "0       7.0  05/01/19  13:08:00        Ewallet     9.1           0.48  \n",
              "1       5.0  08/03/19  10:29:00           Cash     9.6           0.48  \n",
              "2       7.0  03/03/19  13:23:00    Credit card     7.4           0.33  \n",
              "3       8.0  27/01/19  20:33:00        Ewallet     8.4           0.33  \n",
              "4       7.0  08/02/19  10:37:00        Ewallet     5.3           0.48  "
            ]
          },
          "execution_count": 8,
          "metadata": {},
          "output_type": "execute_result"
        }
      ],
      "source": [
        "data.head()"
      ]
    },
    {
      "cell_type": "code",
      "execution_count": 9,
      "metadata": {
        "colab": {
          "base_uri": "https://localhost:8080/"
        },
        "id": "kR26_HBmgzrI",
        "outputId": "12dfc3c3-1ec9-4adb-89f5-bd7f6771b229"
      },
      "outputs": [
        {
          "data": {
            "text/plain": [
              "(10051, 11)"
            ]
          },
          "execution_count": 9,
          "metadata": {},
          "output_type": "execute_result"
        }
      ],
      "source": [
        "data.shape"
      ]
    },
    {
      "cell_type": "code",
      "execution_count": 10,
      "metadata": {
        "colab": {
          "base_uri": "https://localhost:8080/",
          "height": 300
        },
        "id": "yWDirM74jhBB",
        "outputId": "bfb831bf-2b0f-41c9-c7d2-af8fe00e717f"
      },
      "outputs": [
        {
          "data": {
            "text/html": [
              "<div>\n",
              "<style scoped>\n",
              "    .dataframe tbody tr th:only-of-type {\n",
              "        vertical-align: middle;\n",
              "    }\n",
              "\n",
              "    .dataframe tbody tr th {\n",
              "        vertical-align: top;\n",
              "    }\n",
              "\n",
              "    .dataframe thead th {\n",
              "        text-align: right;\n",
              "    }\n",
              "</style>\n",
              "<table border=\"1\" class=\"dataframe\">\n",
              "  <thead>\n",
              "    <tr style=\"text-align: right;\">\n",
              "      <th></th>\n",
              "      <th>invoice_id</th>\n",
              "      <th>quantity</th>\n",
              "      <th>rating</th>\n",
              "      <th>profit_margin</th>\n",
              "    </tr>\n",
              "  </thead>\n",
              "  <tbody>\n",
              "    <tr>\n",
              "      <th>count</th>\n",
              "      <td>10051.000000</td>\n",
              "      <td>10020.000000</td>\n",
              "      <td>10051.000000</td>\n",
              "      <td>10051.000000</td>\n",
              "    </tr>\n",
              "    <tr>\n",
              "      <th>mean</th>\n",
              "      <td>5025.741220</td>\n",
              "      <td>2.353493</td>\n",
              "      <td>5.825659</td>\n",
              "      <td>0.393791</td>\n",
              "    </tr>\n",
              "    <tr>\n",
              "      <th>std</th>\n",
              "      <td>2901.174372</td>\n",
              "      <td>1.602658</td>\n",
              "      <td>1.763991</td>\n",
              "      <td>0.090669</td>\n",
              "    </tr>\n",
              "    <tr>\n",
              "      <th>min</th>\n",
              "      <td>1.000000</td>\n",
              "      <td>1.000000</td>\n",
              "      <td>3.000000</td>\n",
              "      <td>0.180000</td>\n",
              "    </tr>\n",
              "    <tr>\n",
              "      <th>25%</th>\n",
              "      <td>2513.500000</td>\n",
              "      <td>1.000000</td>\n",
              "      <td>4.000000</td>\n",
              "      <td>0.330000</td>\n",
              "    </tr>\n",
              "    <tr>\n",
              "      <th>50%</th>\n",
              "      <td>5026.000000</td>\n",
              "      <td>2.000000</td>\n",
              "      <td>6.000000</td>\n",
              "      <td>0.330000</td>\n",
              "    </tr>\n",
              "    <tr>\n",
              "      <th>75%</th>\n",
              "      <td>7538.500000</td>\n",
              "      <td>3.000000</td>\n",
              "      <td>7.000000</td>\n",
              "      <td>0.480000</td>\n",
              "    </tr>\n",
              "    <tr>\n",
              "      <th>max</th>\n",
              "      <td>10000.000000</td>\n",
              "      <td>10.000000</td>\n",
              "      <td>10.000000</td>\n",
              "      <td>0.570000</td>\n",
              "    </tr>\n",
              "  </tbody>\n",
              "</table>\n",
              "</div>"
            ],
            "text/plain": [
              "         invoice_id      quantity        rating  profit_margin\n",
              "count  10051.000000  10020.000000  10051.000000   10051.000000\n",
              "mean    5025.741220      2.353493      5.825659       0.393791\n",
              "std     2901.174372      1.602658      1.763991       0.090669\n",
              "min        1.000000      1.000000      3.000000       0.180000\n",
              "25%     2513.500000      1.000000      4.000000       0.330000\n",
              "50%     5026.000000      2.000000      6.000000       0.330000\n",
              "75%     7538.500000      3.000000      7.000000       0.480000\n",
              "max    10000.000000     10.000000     10.000000       0.570000"
            ]
          },
          "execution_count": 10,
          "metadata": {},
          "output_type": "execute_result"
        }
      ],
      "source": [
        "data.describe()"
      ]
    },
    {
      "cell_type": "code",
      "execution_count": 11,
      "metadata": {
        "colab": {
          "base_uri": "https://localhost:8080/"
        },
        "id": "KaWzpFfzkclS",
        "outputId": "908237cd-2088-4110-c901-efef20993eae"
      },
      "outputs": [
        {
          "name": "stdout",
          "output_type": "stream",
          "text": [
            "<class 'pandas.core.frame.DataFrame'>\n",
            "RangeIndex: 10051 entries, 0 to 10050\n",
            "Data columns (total 11 columns):\n",
            " #   Column          Non-Null Count  Dtype  \n",
            "---  ------          --------------  -----  \n",
            " 0   invoice_id      10051 non-null  int64  \n",
            " 1   Branch          10051 non-null  object \n",
            " 2   City            10051 non-null  object \n",
            " 3   category        10051 non-null  object \n",
            " 4   unit_price      10020 non-null  object \n",
            " 5   quantity        10020 non-null  float64\n",
            " 6   date            10051 non-null  object \n",
            " 7   time            10051 non-null  object \n",
            " 8   payment_method  10051 non-null  object \n",
            " 9   rating          10051 non-null  float64\n",
            " 10  profit_margin   10051 non-null  float64\n",
            "dtypes: float64(3), int64(1), object(7)\n",
            "memory usage: 863.9+ KB\n"
          ]
        }
      ],
      "source": [
        "data.info()"
      ]
    },
    {
      "cell_type": "code",
      "execution_count": 12,
      "metadata": {
        "colab": {
          "base_uri": "https://localhost:8080/"
        },
        "id": "7CdDew-hkwsW",
        "outputId": "8e3879c2-aec4-4db6-fca6-1dba13f3276f"
      },
      "outputs": [
        {
          "data": {
            "text/plain": [
              "np.int64(51)"
            ]
          },
          "execution_count": 12,
          "metadata": {},
          "output_type": "execute_result"
        }
      ],
      "source": [
        "data.duplicated().sum()"
      ]
    },
    {
      "cell_type": "code",
      "execution_count": 13,
      "metadata": {
        "id": "JDZtFZe7liYw"
      },
      "outputs": [],
      "source": [
        "data.drop_duplicates(inplace=True)"
      ]
    },
    {
      "cell_type": "code",
      "execution_count": 14,
      "metadata": {
        "colab": {
          "base_uri": "https://localhost:8080/",
          "height": 429
        },
        "id": "ugsLt2DNmGrQ",
        "outputId": "ed20cff6-03af-4125-de66-97f8915731b7"
      },
      "outputs": [
        {
          "data": {
            "text/plain": [
              "invoice_id         0\n",
              "Branch             0\n",
              "City               0\n",
              "category           0\n",
              "unit_price        31\n",
              "quantity          31\n",
              "date               0\n",
              "time               0\n",
              "payment_method     0\n",
              "rating             0\n",
              "profit_margin      0\n",
              "dtype: int64"
            ]
          },
          "execution_count": 14,
          "metadata": {},
          "output_type": "execute_result"
        }
      ],
      "source": [
        "data.isnull().sum()"
      ]
    },
    {
      "cell_type": "code",
      "execution_count": 15,
      "metadata": {
        "id": "DYNqIX2Wm0GS"
      },
      "outputs": [],
      "source": [
        "data.dropna(inplace=True)"
      ]
    },
    {
      "cell_type": "code",
      "execution_count": 16,
      "metadata": {
        "colab": {
          "base_uri": "https://localhost:8080/"
        },
        "id": "awq-2XrPm2XS",
        "outputId": "d6d70670-f412-4edd-d7ed-6bed63023353"
      },
      "outputs": [
        {
          "data": {
            "text/plain": [
              "(9969, 11)"
            ]
          },
          "execution_count": 16,
          "metadata": {},
          "output_type": "execute_result"
        }
      ],
      "source": [
        "data.shape"
      ]
    },
    {
      "cell_type": "code",
      "execution_count": 17,
      "metadata": {
        "id": "swVXZL1Tm4SM"
      },
      "outputs": [],
      "source": [
        "data['unit_price']=data['unit_price'].str.replace('$','').astype(float)"
      ]
    },
    {
      "cell_type": "code",
      "execution_count": 18,
      "metadata": {
        "colab": {
          "base_uri": "https://localhost:8080/",
          "height": 206
        },
        "id": "93r5XjIinfIt",
        "outputId": "e0bd932a-b801-48a8-b37c-27abb0aeda51"
      },
      "outputs": [
        {
          "data": {
            "text/html": [
              "<div>\n",
              "<style scoped>\n",
              "    .dataframe tbody tr th:only-of-type {\n",
              "        vertical-align: middle;\n",
              "    }\n",
              "\n",
              "    .dataframe tbody tr th {\n",
              "        vertical-align: top;\n",
              "    }\n",
              "\n",
              "    .dataframe thead th {\n",
              "        text-align: right;\n",
              "    }\n",
              "</style>\n",
              "<table border=\"1\" class=\"dataframe\">\n",
              "  <thead>\n",
              "    <tr style=\"text-align: right;\">\n",
              "      <th></th>\n",
              "      <th>invoice_id</th>\n",
              "      <th>Branch</th>\n",
              "      <th>City</th>\n",
              "      <th>category</th>\n",
              "      <th>unit_price</th>\n",
              "      <th>quantity</th>\n",
              "      <th>date</th>\n",
              "      <th>time</th>\n",
              "      <th>payment_method</th>\n",
              "      <th>rating</th>\n",
              "      <th>profit_margin</th>\n",
              "    </tr>\n",
              "  </thead>\n",
              "  <tbody>\n",
              "    <tr>\n",
              "      <th>0</th>\n",
              "      <td>1</td>\n",
              "      <td>WALM003</td>\n",
              "      <td>San Antonio</td>\n",
              "      <td>Health and beauty</td>\n",
              "      <td>74.69</td>\n",
              "      <td>7.0</td>\n",
              "      <td>05/01/19</td>\n",
              "      <td>13:08:00</td>\n",
              "      <td>Ewallet</td>\n",
              "      <td>9.1</td>\n",
              "      <td>0.48</td>\n",
              "    </tr>\n",
              "    <tr>\n",
              "      <th>1</th>\n",
              "      <td>2</td>\n",
              "      <td>WALM048</td>\n",
              "      <td>Harlingen</td>\n",
              "      <td>Electronic accessories</td>\n",
              "      <td>15.28</td>\n",
              "      <td>5.0</td>\n",
              "      <td>08/03/19</td>\n",
              "      <td>10:29:00</td>\n",
              "      <td>Cash</td>\n",
              "      <td>9.6</td>\n",
              "      <td>0.48</td>\n",
              "    </tr>\n",
              "    <tr>\n",
              "      <th>2</th>\n",
              "      <td>3</td>\n",
              "      <td>WALM067</td>\n",
              "      <td>Haltom City</td>\n",
              "      <td>Home and lifestyle</td>\n",
              "      <td>46.33</td>\n",
              "      <td>7.0</td>\n",
              "      <td>03/03/19</td>\n",
              "      <td>13:23:00</td>\n",
              "      <td>Credit card</td>\n",
              "      <td>7.4</td>\n",
              "      <td>0.33</td>\n",
              "    </tr>\n",
              "    <tr>\n",
              "      <th>3</th>\n",
              "      <td>4</td>\n",
              "      <td>WALM064</td>\n",
              "      <td>Bedford</td>\n",
              "      <td>Health and beauty</td>\n",
              "      <td>58.22</td>\n",
              "      <td>8.0</td>\n",
              "      <td>27/01/19</td>\n",
              "      <td>20:33:00</td>\n",
              "      <td>Ewallet</td>\n",
              "      <td>8.4</td>\n",
              "      <td>0.33</td>\n",
              "    </tr>\n",
              "    <tr>\n",
              "      <th>4</th>\n",
              "      <td>5</td>\n",
              "      <td>WALM013</td>\n",
              "      <td>Irving</td>\n",
              "      <td>Sports and travel</td>\n",
              "      <td>86.31</td>\n",
              "      <td>7.0</td>\n",
              "      <td>08/02/19</td>\n",
              "      <td>10:37:00</td>\n",
              "      <td>Ewallet</td>\n",
              "      <td>5.3</td>\n",
              "      <td>0.48</td>\n",
              "    </tr>\n",
              "  </tbody>\n",
              "</table>\n",
              "</div>"
            ],
            "text/plain": [
              "   invoice_id   Branch         City                category  unit_price  \\\n",
              "0           1  WALM003  San Antonio       Health and beauty       74.69   \n",
              "1           2  WALM048    Harlingen  Electronic accessories       15.28   \n",
              "2           3  WALM067  Haltom City      Home and lifestyle       46.33   \n",
              "3           4  WALM064      Bedford       Health and beauty       58.22   \n",
              "4           5  WALM013       Irving       Sports and travel       86.31   \n",
              "\n",
              "   quantity      date      time payment_method  rating  profit_margin  \n",
              "0       7.0  05/01/19  13:08:00        Ewallet     9.1           0.48  \n",
              "1       5.0  08/03/19  10:29:00           Cash     9.6           0.48  \n",
              "2       7.0  03/03/19  13:23:00    Credit card     7.4           0.33  \n",
              "3       8.0  27/01/19  20:33:00        Ewallet     8.4           0.33  \n",
              "4       7.0  08/02/19  10:37:00        Ewallet     5.3           0.48  "
            ]
          },
          "execution_count": 18,
          "metadata": {},
          "output_type": "execute_result"
        }
      ],
      "source": [
        "data.head()"
      ]
    },
    {
      "cell_type": "code",
      "execution_count": 19,
      "metadata": {
        "colab": {
          "base_uri": "https://localhost:8080/"
        },
        "id": "ZBOunvqToa3B",
        "outputId": "a38331d7-91bc-473a-9c70-f27038b1e1bf"
      },
      "outputs": [
        {
          "name": "stdout",
          "output_type": "stream",
          "text": [
            "<class 'pandas.core.frame.DataFrame'>\n",
            "Index: 9969 entries, 0 to 9999\n",
            "Data columns (total 11 columns):\n",
            " #   Column          Non-Null Count  Dtype  \n",
            "---  ------          --------------  -----  \n",
            " 0   invoice_id      9969 non-null   int64  \n",
            " 1   Branch          9969 non-null   object \n",
            " 2   City            9969 non-null   object \n",
            " 3   category        9969 non-null   object \n",
            " 4   unit_price      9969 non-null   float64\n",
            " 5   quantity        9969 non-null   float64\n",
            " 6   date            9969 non-null   object \n",
            " 7   time            9969 non-null   object \n",
            " 8   payment_method  9969 non-null   object \n",
            " 9   rating          9969 non-null   float64\n",
            " 10  profit_margin   9969 non-null   float64\n",
            "dtypes: float64(4), int64(1), object(6)\n",
            "memory usage: 934.6+ KB\n"
          ]
        }
      ],
      "source": [
        "data.info()"
      ]
    },
    {
      "cell_type": "code",
      "execution_count": 20,
      "metadata": {
        "id": "dLKYF6QcofzD"
      },
      "outputs": [],
      "source": [
        "data['total']=data['unit_price']*data['quantity']"
      ]
    },
    {
      "cell_type": "code",
      "execution_count": 21,
      "metadata": {
        "colab": {
          "base_uri": "https://localhost:8080/",
          "height": 206
        },
        "id": "15CB3m5qo__J",
        "outputId": "0c22e39b-b8ec-4ff0-9a84-8249af0d2386"
      },
      "outputs": [
        {
          "data": {
            "text/html": [
              "<div>\n",
              "<style scoped>\n",
              "    .dataframe tbody tr th:only-of-type {\n",
              "        vertical-align: middle;\n",
              "    }\n",
              "\n",
              "    .dataframe tbody tr th {\n",
              "        vertical-align: top;\n",
              "    }\n",
              "\n",
              "    .dataframe thead th {\n",
              "        text-align: right;\n",
              "    }\n",
              "</style>\n",
              "<table border=\"1\" class=\"dataframe\">\n",
              "  <thead>\n",
              "    <tr style=\"text-align: right;\">\n",
              "      <th></th>\n",
              "      <th>invoice_id</th>\n",
              "      <th>Branch</th>\n",
              "      <th>City</th>\n",
              "      <th>category</th>\n",
              "      <th>unit_price</th>\n",
              "      <th>quantity</th>\n",
              "      <th>date</th>\n",
              "      <th>time</th>\n",
              "      <th>payment_method</th>\n",
              "      <th>rating</th>\n",
              "      <th>profit_margin</th>\n",
              "      <th>total</th>\n",
              "    </tr>\n",
              "  </thead>\n",
              "  <tbody>\n",
              "    <tr>\n",
              "      <th>0</th>\n",
              "      <td>1</td>\n",
              "      <td>WALM003</td>\n",
              "      <td>San Antonio</td>\n",
              "      <td>Health and beauty</td>\n",
              "      <td>74.69</td>\n",
              "      <td>7.0</td>\n",
              "      <td>05/01/19</td>\n",
              "      <td>13:08:00</td>\n",
              "      <td>Ewallet</td>\n",
              "      <td>9.1</td>\n",
              "      <td>0.48</td>\n",
              "      <td>522.83</td>\n",
              "    </tr>\n",
              "    <tr>\n",
              "      <th>1</th>\n",
              "      <td>2</td>\n",
              "      <td>WALM048</td>\n",
              "      <td>Harlingen</td>\n",
              "      <td>Electronic accessories</td>\n",
              "      <td>15.28</td>\n",
              "      <td>5.0</td>\n",
              "      <td>08/03/19</td>\n",
              "      <td>10:29:00</td>\n",
              "      <td>Cash</td>\n",
              "      <td>9.6</td>\n",
              "      <td>0.48</td>\n",
              "      <td>76.40</td>\n",
              "    </tr>\n",
              "    <tr>\n",
              "      <th>2</th>\n",
              "      <td>3</td>\n",
              "      <td>WALM067</td>\n",
              "      <td>Haltom City</td>\n",
              "      <td>Home and lifestyle</td>\n",
              "      <td>46.33</td>\n",
              "      <td>7.0</td>\n",
              "      <td>03/03/19</td>\n",
              "      <td>13:23:00</td>\n",
              "      <td>Credit card</td>\n",
              "      <td>7.4</td>\n",
              "      <td>0.33</td>\n",
              "      <td>324.31</td>\n",
              "    </tr>\n",
              "    <tr>\n",
              "      <th>3</th>\n",
              "      <td>4</td>\n",
              "      <td>WALM064</td>\n",
              "      <td>Bedford</td>\n",
              "      <td>Health and beauty</td>\n",
              "      <td>58.22</td>\n",
              "      <td>8.0</td>\n",
              "      <td>27/01/19</td>\n",
              "      <td>20:33:00</td>\n",
              "      <td>Ewallet</td>\n",
              "      <td>8.4</td>\n",
              "      <td>0.33</td>\n",
              "      <td>465.76</td>\n",
              "    </tr>\n",
              "    <tr>\n",
              "      <th>4</th>\n",
              "      <td>5</td>\n",
              "      <td>WALM013</td>\n",
              "      <td>Irving</td>\n",
              "      <td>Sports and travel</td>\n",
              "      <td>86.31</td>\n",
              "      <td>7.0</td>\n",
              "      <td>08/02/19</td>\n",
              "      <td>10:37:00</td>\n",
              "      <td>Ewallet</td>\n",
              "      <td>5.3</td>\n",
              "      <td>0.48</td>\n",
              "      <td>604.17</td>\n",
              "    </tr>\n",
              "  </tbody>\n",
              "</table>\n",
              "</div>"
            ],
            "text/plain": [
              "   invoice_id   Branch         City                category  unit_price  \\\n",
              "0           1  WALM003  San Antonio       Health and beauty       74.69   \n",
              "1           2  WALM048    Harlingen  Electronic accessories       15.28   \n",
              "2           3  WALM067  Haltom City      Home and lifestyle       46.33   \n",
              "3           4  WALM064      Bedford       Health and beauty       58.22   \n",
              "4           5  WALM013       Irving       Sports and travel       86.31   \n",
              "\n",
              "   quantity      date      time payment_method  rating  profit_margin   total  \n",
              "0       7.0  05/01/19  13:08:00        Ewallet     9.1           0.48  522.83  \n",
              "1       5.0  08/03/19  10:29:00           Cash     9.6           0.48   76.40  \n",
              "2       7.0  03/03/19  13:23:00    Credit card     7.4           0.33  324.31  \n",
              "3       8.0  27/01/19  20:33:00        Ewallet     8.4           0.33  465.76  \n",
              "4       7.0  08/02/19  10:37:00        Ewallet     5.3           0.48  604.17  "
            ]
          },
          "execution_count": 21,
          "metadata": {},
          "output_type": "execute_result"
        }
      ],
      "source": [
        "data.head()"
      ]
    },
    {
      "cell_type": "code",
      "execution_count": 22,
      "metadata": {
        "colab": {
          "base_uri": "https://localhost:8080/"
        },
        "id": "_6-bMKg5pBty",
        "outputId": "e1deaf3b-0116-440d-cdb7-0f621f75972a"
      },
      "outputs": [
        {
          "name": "stdout",
          "output_type": "stream",
          "text": [
            "Collecting psycopg2\n",
            "  Downloading psycopg2-2.9.10-cp312-cp312-win_amd64.whl.metadata (5.0 kB)\n",
            "Downloading psycopg2-2.9.10-cp312-cp312-win_amd64.whl (1.2 MB)\n",
            "   ---------------------------------------- 0.0/1.2 MB ? eta -:--:--\n",
            "   ---------------------------------------- 0.0/1.2 MB ? eta -:--:--\n",
            "   - -------------------------------------- 0.0/1.2 MB 330.3 kB/s eta 0:00:04\n",
            "   -- ------------------------------------- 0.1/1.2 MB 469.7 kB/s eta 0:00:03\n",
            "   --- ------------------------------------ 0.1/1.2 MB 656.4 kB/s eta 0:00:02\n",
            "   ------- -------------------------------- 0.2/1.2 MB 1.1 MB/s eta 0:00:01\n",
            "   ----------------- ---------------------- 0.5/1.2 MB 2.0 MB/s eta 0:00:01\n",
            "   -------------------------------- ------- 0.9/1.2 MB 3.1 MB/s eta 0:00:01\n",
            "   ---------------------------------------- 1.2/1.2 MB 3.7 MB/s eta 0:00:00\n",
            "Installing collected packages: psycopg2\n",
            "Successfully installed psycopg2-2.9.10\n"
          ]
        },
        {
          "name": "stderr",
          "output_type": "stream",
          "text": [
            "\n",
            "[notice] A new release of pip is available: 24.0 -> 25.0.1\n",
            "[notice] To update, run: python.exe -m pip install --upgrade pip\n"
          ]
        }
      ],
      "source": [
        "!pip install psycopg2"
      ]
    },
    {
      "cell_type": "code",
      "execution_count": 23,
      "metadata": {
        "colab": {
          "base_uri": "https://localhost:8080/"
        },
        "id": "VTvs3hNKFP1k",
        "outputId": "efb16eab-021d-4ef5-f559-1180846bd496"
      },
      "outputs": [
        {
          "name": "stdout",
          "output_type": "stream",
          "text": [
            "Collecting sqlalchemy\n",
            "  Downloading SQLAlchemy-2.0.38-cp312-cp312-win_amd64.whl.metadata (9.9 kB)\n",
            "Collecting greenlet!=0.4.17 (from sqlalchemy)\n",
            "  Using cached greenlet-3.1.1-cp312-cp312-win_amd64.whl.metadata (3.9 kB)\n",
            "Collecting typing-extensions>=4.6.0 (from sqlalchemy)\n",
            "  Downloading typing_extensions-4.12.2-py3-none-any.whl.metadata (3.0 kB)\n",
            "Downloading SQLAlchemy-2.0.38-cp312-cp312-win_amd64.whl (2.1 MB)\n",
            "   ---------------------------------------- 0.0/2.1 MB ? eta -:--:--\n",
            "   - -------------------------------------- 0.1/2.1 MB 3.8 MB/s eta 0:00:01\n",
            "   ------- -------------------------------- 0.4/2.1 MB 4.6 MB/s eta 0:00:01\n",
            "   --------------------- ------------------ 1.1/2.1 MB 8.9 MB/s eta 0:00:01\n",
            "   ---------------------------------------  2.1/2.1 MB 12.1 MB/s eta 0:00:01\n",
            "   ---------------------------------------- 2.1/2.1 MB 11.1 MB/s eta 0:00:00\n",
            "Using cached greenlet-3.1.1-cp312-cp312-win_amd64.whl (299 kB)\n",
            "Downloading typing_extensions-4.12.2-py3-none-any.whl (37 kB)\n",
            "Installing collected packages: typing-extensions, greenlet, sqlalchemy\n",
            "Successfully installed greenlet-3.1.1 sqlalchemy-2.0.38 typing-extensions-4.12.2\n"
          ]
        },
        {
          "name": "stderr",
          "output_type": "stream",
          "text": [
            "\n",
            "[notice] A new release of pip is available: 24.0 -> 25.0.1\n",
            "[notice] To update, run: python.exe -m pip install --upgrade pip\n"
          ]
        }
      ],
      "source": [
        "!pip install sqlalchemy"
      ]
    },
    {
      "cell_type": "code",
      "execution_count": 24,
      "metadata": {
        "id": "uSIIEI5hFar5"
      },
      "outputs": [],
      "source": [
        "import psycopg2\n",
        "from sqlalchemy import create_engine"
      ]
    },
    {
      "cell_type": "code",
      "execution_count": null,
      "metadata": {
        "id": "5sONrymMFyRO"
      },
      "outputs": [],
      "source": [
        "engine_psql=create_engine('postgresql:<your password>//postgres:@localhost:5432/walmart_db')"
      ]
    },
    {
      "cell_type": "code",
      "execution_count": 29,
      "metadata": {},
      "outputs": [],
      "source": [
        "data.columns=data.columns.str.lower()"
      ]
    },
    {
      "cell_type": "code",
      "execution_count": 30,
      "metadata": {
        "colab": {
          "base_uri": "https://localhost:8080/",
          "height": 564
        },
        "id": "wuNZkKH3GHO5",
        "outputId": "c2114c09-c016-4012-8b04-efc1c0f47a8a"
      },
      "outputs": [
        {
          "data": {
            "text/plain": [
              "969"
            ]
          },
          "execution_count": 30,
          "metadata": {},
          "output_type": "execute_result"
        }
      ],
      "source": [
        "data.to_sql(name='walmart',con=engine_psql,if_exists='append',index=False)"
      ]
    },
    {
      "cell_type": "code",
      "execution_count": null,
      "metadata": {
        "id": "uYD1jxlEGZn7"
      },
      "outputs": [],
      "source": []
    }
  ],
  "metadata": {
    "colab": {
      "provenance": []
    },
    "kernelspec": {
      "display_name": "myenv",
      "language": "python",
      "name": "python3"
    },
    "language_info": {
      "codemirror_mode": {
        "name": "ipython",
        "version": 3
      },
      "file_extension": ".py",
      "mimetype": "text/x-python",
      "name": "python",
      "nbconvert_exporter": "python",
      "pygments_lexer": "ipython3",
      "version": "3.12.2"
    }
  },
  "nbformat": 4,
  "nbformat_minor": 0
}
